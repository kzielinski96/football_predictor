{
 "cells": [
  {
   "cell_type": "markdown",
   "metadata": {},
   "source": [
    "# Score predicts\n",
    "### Predicting specific scores of one week of english league games using RNN model created earlier"
   ]
  },
  {
   "cell_type": "code",
   "execution_count": 1,
   "metadata": {},
   "outputs": [],
   "source": [
    "# Obsługa środowisk Python 2 i Python 3\n",
    "from __future__ import division, print_function, unicode_literals\n",
    "\n",
    "# Importowanie popularnych modułów\n",
    "import numpy as np\n",
    "import os\n",
    "\n",
    "# W celu zachowania powtarzalności wyników w kolejnych przebiegach\n",
    "np.random.seed(42)\n",
    "\n",
    "# Generowanie ładnych wykresów\n",
    "%matplotlib inline\n",
    "import matplotlib\n",
    "import matplotlib.pyplot as plt\n",
    "plt.rcParams['axes.labelsize'] = 14\n",
    "plt.rcParams['xtick.labelsize'] = 12\n",
    "plt.rcParams['ytick.labelsize'] = 12\n",
    "\n",
    "# Lokacja, w której będą zapisywane rysunki\n",
    "PROJECT_ROOT_DIR = \".\"\n",
    "CHAPTER_ID = \"preparing_dataset\"\n",
    "IMAGES_PATH = os.path.join(PROJECT_ROOT_DIR, \"pictures\", CHAPTER_ID)\n",
    "\n",
    "def image_path(fig_id):\n",
    "    return os.path.join(PROJECT_ROOT_DIR, \"pictures\", CHAPTER_ID, fig_id)\n",
    "\n",
    "def save_fig(fig_id, tight_layout=True, fig_extension=\"png\", resolution=300):\n",
    "    path = os.path.join(IMAGES_PATH, fig_id + \".\" + fig_extension)\n",
    "    print(\"Saving an image\", fig_id)\n",
    "    if tight_layout:\n",
    "        plt.tight_layout()\n",
    "    plt.savefig(path, format=fig_extension, dpi=resolution)"
   ]
  },
  {
   "cell_type": "code",
   "execution_count": 2,
   "metadata": {},
   "outputs": [],
   "source": [
    "import os\n",
    "import pandas as pd\n",
    "\n",
    "FOOTBALL_PATH_SP = os.path.join(\"datasets\", \"spain\")\n",
    "football_path_sp = FOOTBALL_PATH_SP\n",
    "\n",
    "FOOTBALL_PATH_EN = os.path.join(\"datasets\", \"england\")\n",
    "football_path_en = FOOTBALL_PATH_EN\n",
    "\n",
    "FOOTBALL_PATH_FR = os.path.join(\"datasets\", \"france\")\n",
    "football_path_fr = FOOTBALL_PATH_FR\n",
    "\n",
    "FOOTBALL_PATH_GE = os.path.join(\"datasets\", \"germany\")\n",
    "football_path_ge = FOOTBALL_PATH_GE\n",
    "\n",
    "FOOTBALL_PATH_IT = os.path.join(\"datasets\", \"italy\")\n",
    "football_path_it = FOOTBALL_PATH_IT\n",
    "\n",
    "def load_football_data(football_path, file):\n",
    "    csv_path = os.path.join(football_path, file)\n",
    "    return pd.read_csv(csv_path, error_bad_lines=False)"
   ]
  },
  {
   "cell_type": "code",
   "execution_count": 3,
   "metadata": {},
   "outputs": [],
   "source": [
    "football_sp = load_football_data(FOOTBALL_PATH_SP, \"spain.csv\")\n",
    "football_en = load_football_data(FOOTBALL_PATH_EN, \"england.csv\")\n",
    "football_fr = load_football_data(FOOTBALL_PATH_FR, \"france.csv\")\n",
    "football_ge = load_football_data(FOOTBALL_PATH_GE, \"germany.csv\")\n",
    "football_it = load_football_data(FOOTBALL_PATH_IT, \"italy.csv\")"
   ]
  },
  {
   "cell_type": "code",
   "execution_count": 4,
   "metadata": {},
   "outputs": [],
   "source": [
    "football = football_en.copy()"
   ]
  },
  {
   "cell_type": "code",
   "execution_count": 5,
   "metadata": {},
   "outputs": [],
   "source": [
    "from sklearn.preprocessing import LabelEncoder\n",
    "\n",
    "homeTeamList = football[\"HomeTeam\"].tolist() \n",
    "awayTeamList = football[\"AwayTeam\"].tolist()\n",
    "fTRList = football[\"FTR\"].tolist()\n",
    "hTRList = football[\"HTR\"].tolist()\n",
    "divList = football[\"Div\"].tolist()\n",
    "\n",
    "labelEncoder = LabelEncoder()\n",
    "\n",
    "labelEncoder.fit(homeTeamList)\n",
    "label = labelEncoder.transform(homeTeamList)\n",
    "football['homeTeam']=pd.Series(label)\n",
    "\n",
    "labelEncoder.fit(awayTeamList)\n",
    "label = labelEncoder.transform(awayTeamList)\n",
    "football['awayTeam']=pd.Series(label)\n",
    "\n",
    "labelEncoder.fit(hTRList)\n",
    "label = labelEncoder.transform(hTRList)\n",
    "football['hTR']=pd.Series(label)\n",
    "\n",
    "labelEncoder.fit(fTRList)\n",
    "label = labelEncoder.transform(fTRList)\n",
    "football['fTR']=pd.Series(label)\n",
    "\n",
    "labelEncoder.fit(divList)\n",
    "label = labelEncoder.transform(divList)\n",
    "football['div']=pd.Series(label)"
   ]
  },
  {
   "cell_type": "code",
   "execution_count": 6,
   "metadata": {},
   "outputs": [],
   "source": [
    "import datetime\n",
    "\n",
    "dates = pd.Series(football['Date'])\n",
    "dates = pd.to_datetime(dates, format = '%d/%m/%y')\n",
    "days = []\n",
    "years = []\n",
    "\n",
    "for i in dates:\n",
    "    d = i.dayofyear\n",
    "    days.append(d)\n",
    "    y = i.year\n",
    "    years.append(y)\n",
    "    \n",
    "x = pd.Series(days)\n",
    "y = pd.Series(years)\n",
    "football[\"DayOfTheYear\"] = x\n",
    "football[\"Year\"] = y"
   ]
  },
  {
   "cell_type": "code",
   "execution_count": 7,
   "metadata": {},
   "outputs": [],
   "source": [
    "football = football.drop(columns = ['div', 'Div','Date', 'HomeTeam', 'AwayTeam', 'HTR', 'FTR', 'HTAG', 'HTHG', 'hTR', 'fTR', 'HST', 'AST', 'HS', 'AS', 'HF', 'AF', 'HY', 'AY', 'HR', 'AR', ], axis = 1)"
   ]
  },
  {
   "cell_type": "code",
   "execution_count": 8,
   "metadata": {},
   "outputs": [
    {
     "name": "stdout",
     "output_type": "stream",
     "text": [
      "<class 'pandas.core.frame.DataFrame'>\n",
      "RangeIndex: 5410 entries, 0 to 5409\n",
      "Data columns (total 12 columns):\n",
      "FTHG            5410 non-null float64\n",
      "FTAG            5410 non-null float64\n",
      "B365H           5410 non-null float64\n",
      "B365D           5410 non-null float64\n",
      "B365A           5410 non-null float64\n",
      "BWH             5409 non-null float64\n",
      "BWD             5409 non-null float64\n",
      "BWA             5409 non-null float64\n",
      "homeTeam        5410 non-null int64\n",
      "awayTeam        5410 non-null int64\n",
      "DayOfTheYear    5410 non-null int64\n",
      "Year            5410 non-null int64\n",
      "dtypes: float64(8), int64(4)\n",
      "memory usage: 507.3 KB\n"
     ]
    }
   ],
   "source": [
    "football.info()"
   ]
  },
  {
   "cell_type": "code",
   "execution_count": 9,
   "metadata": {},
   "outputs": [],
   "source": [
    "y = np.array(football[['FTHG', 'FTAG']])\n",
    "football = football.drop(columns = ['FTHG', 'FTAG'], axis = 1)\n",
    "x = np.array(football)\n",
    "\n",
    "x = x.astype(float)\n",
    "y = y.astype(float)\n",
    "\n",
    "x = np.reshape(x, (x.shape[0], 1, x.shape[1]))\n",
    "\n",
    "x_train = x[:-10]\n",
    "x_test = x[-10:]\n",
    "y_train = y[:-10]\n",
    "y_test = y[-10:]"
   ]
  },
  {
   "cell_type": "code",
   "execution_count": null,
   "metadata": {},
   "outputs": [],
   "source": [
    "import tensorflow as tf\n",
    "\n",
    "model = tf.keras.Sequential()\n",
    "model.add(tf.keras.layers.LSTM(128, input_shape=(1, 10), activation='relu', return_sequences=True))\n",
    "model.add(tf.keras.layers.LSTM(64, activation='relu', return_sequences=True))\n",
    "model.add(tf.keras.layers.LSTM(16, activation='relu'))\n",
    "model.add(tf.keras.layers.Dense(2, activation='softmax'))\n",
    "model.compile(loss='mean_squared_error', optimizer='adam', metrics=['accuracy'])\n",
    "model.fit(x_train, y_train, epochs=25, batch_size=20, verbose=1)"
   ]
  },
  {
   "cell_type": "code",
   "execution_count": 30,
   "metadata": {},
   "outputs": [
    {
     "name": "stdout",
     "output_type": "stream",
     "text": [
      "0.8 0.9887989163398743\n"
     ]
    }
   ],
   "source": [
    "y_pred = model.predict(x_test, batch_size=20).round()\n",
    "val_loss, val_acc = model.evaluate(x_test, y_test, verbose=0)\n",
    "print(val_acc, val_loss)"
   ]
  },
  {
   "cell_type": "code",
   "execution_count": 25,
   "metadata": {},
   "outputs": [
    {
     "name": "stdout",
     "output_type": "stream",
     "text": [
      "[1. 0.] [1. 0.]\n",
      "[0. 3.] [0. 1.]\n",
      "[1. 1.] [1. 0.]\n",
      "[2. 0.] [1. 0.]\n",
      "[1. 0.] [0. 1.]\n",
      "[2. 0.] [0. 1.]\n",
      "[3. 1.] [1. 0.]\n",
      "[0. 1.] [0. 1.]\n",
      "[1. 1.] [1. 0.]\n",
      "[1. 0.] [1. 0.]\n"
     ]
    }
   ],
   "source": [
    "for actual, predicted in zip(y_test, y_pred):\n",
    "    print(actual, predicted)"
   ]
  },
  {
   "cell_type": "code",
   "execution_count": null,
   "metadata": {},
   "outputs": [],
   "source": []
  }
 ],
 "metadata": {
  "kernelspec": {
   "display_name": "Python 3",
   "language": "python",
   "name": "python3"
  },
  "language_info": {
   "codemirror_mode": {
    "name": "ipython",
    "version": 3
   },
   "file_extension": ".py",
   "mimetype": "text/x-python",
   "name": "python",
   "nbconvert_exporter": "python",
   "pygments_lexer": "ipython3",
   "version": "3.7.3"
  }
 },
 "nbformat": 4,
 "nbformat_minor": 2
}
